{
  "nbformat": 4,
  "nbformat_minor": 0,
  "metadata": {
    "colab": {
      "provenance": []
    },
    "kernelspec": {
      "name": "python3",
      "display_name": "Python 3"
    },
    "language_info": {
      "name": "python"
    }
  },
  "cells": [
    {
      "cell_type": "code",
      "execution_count": 1,
      "metadata": {
        "id": "mBgMlH2epQKX"
      },
      "outputs": [],
      "source": [
        " import pandas as pd\n",
        " from sklearn.preprocessing import LabelEncoder\n",
        " from sklearn.model_selection import train_test_split \n",
        " from sklearn.ensemble import BaggingClassifier, AdaBoostClassifier\n",
        " from sklearn.tree import DecisionTreeClassifier\n",
        " from sklearn.metrics import accuracy_score\n",
        " import numpy as np\n",
        " import matplotlib.pyplot as plt"
      ]
    },
    {
      "cell_type": "code",
      "source": [
        "#Get data\n",
        "df_wine = pd.read_csv('wine.data')"
      ],
      "metadata": {
        "id": "H1L32M8JqcE8"
      },
      "execution_count": 2,
      "outputs": []
    },
    {
      "cell_type": "code",
      "source": [
        "#Prepare data\n",
        "df_wine.columns = ['Class label', 'Alcohol', 'Malic acid', 'Ash', 'Alcalinity of ash', 'Magnesium', 'Total phenonls', 'Flavanoids', 'Nonflavanoid phenols', 'Proanthocyanins', 'Color intensity', 'Hue', 'OD280/OD315 of diluted wines', 'Proline']"
      ],
      "metadata": {
        "id": "CiAjIO5jqf5j"
      },
      "execution_count": 3,
      "outputs": []
    },
    {
      "cell_type": "code",
      "source": [
        "df_wine = df_wine[df_wine['Class label'] !=1]\n",
        "\n",
        "y = df_wine['Class label'].values\n",
        "X = df_wine[['Alcohol', 'OD280/OD315 of diluted wines']].values\n",
        "\n",
        "le = LabelEncoder()\n",
        "y = le.fit_transform(y)\n",
        "\n",
        "X_train, X_test, y_train, y_test = train_test_split(X, y, test_size=0.2, random_state=1, stratify=y)"
      ],
      "metadata": {
        "id": "-qCr8iFuq7LV"
      },
      "execution_count": 4,
      "outputs": []
    },
    {
      "cell_type": "code",
      "source": [
        "#Using bagging classifer\n",
        "tree = DecisionTreeClassifier(criterion='entropy', max_depth = None, random_state=1)\n",
        "\n",
        "bag = BaggingClassifier (base_estimator=tree, n_estimators=500, max_samples=1.0, max_features=1.0, bootstrap=True, bootstrap_features=False, n_jobs=1, random_state=1)"
      ],
      "metadata": {
        "id": "fVBwR4jArOSM"
      },
      "execution_count": 5,
      "outputs": []
    },
    {
      "cell_type": "code",
      "source": [
        "###Using AdaBoost Classifier\n",
        "tree = DecisionTreeClassifier(criterion='entropy', \n",
        "                              max_depth=1, random_state=1)\n",
        "\n",
        "bag = AdaBoostClassifier(base_estimator=tree, n_estimators=500,learning_rate=0.1, random_state=1)"
      ],
      "metadata": {
        "id": "VDkmqD5_r0Tt"
      },
      "execution_count": 10,
      "outputs": []
    },
    {
      "cell_type": "code",
      "source": [
        "#Calculate the accuracy\n",
        "tree = tree.fit(X_train, y_train)\n",
        "y_train_pred = tree.predict(X_train)\n",
        "y_test_pred = tree.predict(X_test)\n",
        "\n",
        "tree_train = accuracy_score(y_train, y_train_pred)\n",
        "tree_test = accuracy_score(y_test, y_test_pred)\n",
        "print('Decision tree train/test accuracies %.3f/%.3f'\n",
        "      % (tree_train, tree_test))\n",
        "\n",
        "bag = bag.fit(X_train, y_train)\n",
        "y_train_pred = bag.predict(X_train)\n",
        "y_test_pred = bag.predict(X_test)\n",
        "\n",
        "bag_train = accuracy_score(y_train, y_train_pred)\n",
        "bag_test = accuracy_score(y_test, y_test_pred)\n",
        "print('Bagging train/test accuracies %.3f/%.3f'\n",
        "      % (bag_train, bag_test))"
      ],
      "metadata": {
        "colab": {
          "base_uri": "https://localhost:8080/"
        },
        "id": "tzvK6sgCsLxs",
        "outputId": "bc71ff62-3669-4d41-953e-ba0634bc4c8a"
      },
      "execution_count": 11,
      "outputs": [
        {
          "output_type": "stream",
          "name": "stdout",
          "text": [
            "Decision tree train/test accuracies 0.916/0.875\n",
            "Bagging train/test accuracies 1.000/0.917\n"
          ]
        }
      ]
    },
    {
      "cell_type": "code",
      "source": [
        "#Plot the graph \n",
        "\n",
        "x_min = X_train[:, 0].min() - 1\n",
        "x_max = X_train[:, 0].max() + 1\n",
        "y_min = X_train[:, 1].min() - 1\n",
        "y_max = X_train[:,1].max() + 1\n",
        "\n",
        "xx, yy = np.meshgrid(np.arange(x_min, x_max, 0.1),\n",
        "                     np.arange(y_min, y_max, 0.1))\n",
        "\n",
        "f, axarr = plt.subplots(nrows=1, ncols=2, \n",
        "                        sharex='col', \n",
        "                        sharey='row', \n",
        "                        figsize=(8,3))\n",
        "\n",
        "\n",
        "for idx, clf, tt in zip([0,1], \n",
        "                        [tree, bag], \n",
        "                        ['Decision tree', 'Bagging']):\n",
        "    clf.fit(X_train, y_train)\n",
        "\n",
        "    Z = clf.predict(np.c_[xx.ravel(), yy.ravel()])\n",
        "    Z = Z.reshape(xx.shape)\n",
        "\n",
        "    axarr[idx].contourf(xx, yy, Z, alpha=0.3)\n",
        "    axarr[idx].scatter(X_train[y_train == 0,0],\n",
        "                     X_train[y_train == 0,1],\n",
        "                     c='blue', marker='^')\n",
        "  \n",
        "    axarr[idx].scatter(X_train[y_train == 1, 0],\n",
        "                     X_train[y_train == 1,1],\n",
        "                     c='green',  marker='^')\n",
        "  \n",
        "    axarr[idx].set_title(tt)\n",
        "\n",
        "axarr[0].set_ylabel('Alcohol', fontsize=12)\n",
        "\n",
        "plt.tight_layout()\n",
        "plt.text(0, -0.2,\n",
        "         s='OD280/OD315 of diulted wines', \n",
        "         ha='center',\n",
        "         va='center',\n",
        "         fontsize=12,\n",
        "         transform=axarr[1].transAxes)\n",
        "\n",
        "plt.show()\n"
      ],
      "metadata": {
        "colab": {
          "base_uri": "https://localhost:8080/",
          "height": 247
        },
        "id": "atU2vlDlsWhr",
        "outputId": "eb5c56b0-a5d2-422b-f469-169dd00d05bf"
      },
      "execution_count": 14,
      "outputs": [
        {
          "output_type": "display_data",
          "data": {
            "text/plain": [
              "<Figure size 576x216 with 2 Axes>"
            ],
            "image/png": "[encoded data removed]"
          },
          "metadata": {
            "needs_background": "light"
          }
        }
      ]
    },
    {
      "cell_type": "code",
      "source": [
        "#This illustrates the decision tree vs. bagging or decision tree vs. AdaBoost"
      ],
      "metadata": {
        "id": "Ijm5q8JOvQvV"
      },
      "execution_count": 15,
      "outputs": []
    },
    {
      "cell_type": "code",
      "source": [],
      "metadata": {
        "id": "6tDXuyDu11xD"
      },
      "execution_count": null,
      "outputs": []
    }
  ]
}